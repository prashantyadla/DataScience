{
  "nbformat": 4,
  "nbformat_minor": 0,
  "metadata": {
    "colab": {
      "name": "Practice .ipynb",
      "provenance": [],
      "authorship_tag": "ABX9TyPBsfI/9xpi82OzvpcFIUjP",
      "include_colab_link": true
    },
    "kernelspec": {
      "name": "python3",
      "display_name": "Python 3"
    },
    "accelerator": "GPU"
  },
  "cells": [
    {
      "cell_type": "markdown",
      "metadata": {
        "id": "view-in-github",
        "colab_type": "text"
      },
      "source": [
        "<a href=\"https://colab.research.google.com/github/prashantyadla/DataScience/blob/master/Practice_.ipynb\" target=\"_parent\"><img src=\"https://colab.research.google.com/assets/colab-badge.svg\" alt=\"Open In Colab\"/></a>"
      ]
    },
    {
      "cell_type": "code",
      "metadata": {
        "id": "lldObmkM9cce",
        "colab_type": "code",
        "outputId": "ba6b5236-bf99-42f9-9698-9d380a61414b",
        "colab": {
          "base_uri": "https://localhost:8080/",
          "height": 85
        }
      },
      "source": [
        "!pip3 list | grep torch"
      ],
      "execution_count": 0,
      "outputs": [
        {
          "output_type": "stream",
          "text": [
            "torch                    1.4.0          \n",
            "torchsummary             1.5.1          \n",
            "torchtext                0.3.1          \n",
            "torchvision              0.5.0          \n"
          ],
          "name": "stdout"
        }
      ]
    },
    {
      "cell_type": "code",
      "metadata": {
        "id": "zHKiHOrr9faI",
        "colab_type": "code",
        "colab": {}
      },
      "source": [
        "import torch"
      ],
      "execution_count": 0,
      "outputs": []
    },
    {
      "cell_type": "code",
      "metadata": {
        "id": "gCJQbI37-OvX",
        "colab_type": "code",
        "outputId": "48a43d0c-d1d6-42c9-df1f-6f72e42698aa",
        "colab": {
          "base_uri": "https://localhost:8080/",
          "height": 102
        }
      },
      "source": [
        "x = torch.empty(5,3)\n",
        "print(x)"
      ],
      "execution_count": 0,
      "outputs": [
        {
          "output_type": "stream",
          "text": [
            "tensor([[6.5410e-38, 0.0000e+00, 4.4842e-44],\n",
            "        [0.0000e+00,        nan, 1.3312e-43],\n",
            "        [6.8616e-07, 1.0680e-05, 1.6504e-07],\n",
            "        [1.0921e-05, 1.0741e-05, 1.3002e+22],\n",
            "        [1.0860e-05, 2.1270e-07, 5.1480e-11]])\n"
          ],
          "name": "stdout"
        }
      ]
    },
    {
      "cell_type": "code",
      "metadata": {
        "id": "SJv4WfRC-ZkS",
        "colab_type": "code",
        "outputId": "b009cd21-5444-48e0-860d-ddf339340ddc",
        "colab": {
          "base_uri": "https://localhost:8080/",
          "height": 102
        }
      },
      "source": [
        "x = torch.zeros(5, 3, dtype=torch.long)\n",
        "print(x)"
      ],
      "execution_count": 0,
      "outputs": [
        {
          "output_type": "stream",
          "text": [
            "tensor([[0, 0, 0],\n",
            "        [0, 0, 0],\n",
            "        [0, 0, 0],\n",
            "        [0, 0, 0],\n",
            "        [0, 0, 0]])\n"
          ],
          "name": "stdout"
        }
      ]
    },
    {
      "cell_type": "code",
      "metadata": {
        "id": "xu60Zj2k-tSb",
        "colab_type": "code",
        "outputId": "cc74d469-3c8f-440e-d0ba-ff85ca51c7c6",
        "colab": {
          "base_uri": "https://localhost:8080/",
          "height": 34
        }
      },
      "source": [
        "x = torch.tensor([5.5, 3])\n",
        "print(x)"
      ],
      "execution_count": 0,
      "outputs": [
        {
          "output_type": "stream",
          "text": [
            "tensor([5.5000, 3.0000])\n"
          ],
          "name": "stdout"
        }
      ]
    },
    {
      "cell_type": "code",
      "metadata": {
        "id": "qpwR6l3h_Y67",
        "colab_type": "code",
        "outputId": "02b687d7-2c8c-46ef-a153-491da7d64b8b",
        "colab": {
          "base_uri": "https://localhost:8080/",
          "height": 187
        }
      },
      "source": [
        "x = x.new_ones(5, 3, dtype=torch.double)\n",
        "print(x)\n",
        "\n",
        "\n",
        "x = torch.randn_like(x, dtype=torch.float)\n",
        "print(x)"
      ],
      "execution_count": 0,
      "outputs": [
        {
          "output_type": "stream",
          "text": [
            "tensor([[1., 1., 1.],\n",
            "        [1., 1., 1.],\n",
            "        [1., 1., 1.],\n",
            "        [1., 1., 1.],\n",
            "        [1., 1., 1.]], dtype=torch.float64)\n",
            "tensor([[ 0.7097, -0.3161, -0.5887],\n",
            "        [-0.2876,  0.1520, -0.7053],\n",
            "        [ 0.2340,  1.3257,  1.2295],\n",
            "        [-0.3117, -0.5766,  0.3722],\n",
            "        [-1.2478,  0.1151, -0.5202]])\n"
          ],
          "name": "stdout"
        }
      ]
    },
    {
      "cell_type": "code",
      "metadata": {
        "id": "qssALIowATiv",
        "colab_type": "code",
        "outputId": "654c286a-15a9-4e93-d294-4156fd55d7f1",
        "colab": {
          "base_uri": "https://localhost:8080/",
          "height": 34
        }
      },
      "source": [
        "print(x.size())"
      ],
      "execution_count": 0,
      "outputs": [
        {
          "output_type": "stream",
          "text": [
            "torch.Size([5, 3])\n"
          ],
          "name": "stdout"
        }
      ]
    },
    {
      "cell_type": "code",
      "metadata": {
        "id": "YUGxEGOcAdyB",
        "colab_type": "code",
        "outputId": "60c9edda-8ced-4792-f281-8d086d123eec",
        "colab": {
          "base_uri": "https://localhost:8080/",
          "height": 476
        }
      },
      "source": [
        "from tensorflow.python.client import device_lib\n",
        "\n",
        "device_lib.list_local_devices()"
      ],
      "execution_count": 0,
      "outputs": [
        {
          "output_type": "execute_result",
          "data": {
            "text/plain": [
              "[name: \"/device:CPU:0\"\n",
              " device_type: \"CPU\"\n",
              " memory_limit: 268435456\n",
              " locality {\n",
              " }\n",
              " incarnation: 11537230314921008276, name: \"/device:XLA_CPU:0\"\n",
              " device_type: \"XLA_CPU\"\n",
              " memory_limit: 17179869184\n",
              " locality {\n",
              " }\n",
              " incarnation: 16778470721770553328\n",
              " physical_device_desc: \"device: XLA_CPU device\", name: \"/device:XLA_GPU:0\"\n",
              " device_type: \"XLA_GPU\"\n",
              " memory_limit: 17179869184\n",
              " locality {\n",
              " }\n",
              " incarnation: 12308665383366606989\n",
              " physical_device_desc: \"device: XLA_GPU device\", name: \"/device:GPU:0\"\n",
              " device_type: \"GPU\"\n",
              " memory_limit: 6890635936\n",
              " locality {\n",
              "   bus_id: 1\n",
              "   links {\n",
              "   }\n",
              " }\n",
              " incarnation: 16467423669616469066\n",
              " physical_device_desc: \"device: 0, name: Tesla P4, pci bus id: 0000:00:04.0, compute capability: 6.1\"]"
            ]
          },
          "metadata": {
            "tags": []
          },
          "execution_count": 11
        }
      ]
    },
    {
      "cell_type": "code",
      "metadata": {
        "id": "8o6-21BdA7fV",
        "colab_type": "code",
        "outputId": "adb26deb-3d49-4b8f-e002-38945d168a07",
        "colab": {
          "base_uri": "https://localhost:8080/",
          "height": 34
        }
      },
      "source": [
        "import tensorflow as tf\n",
        "tf.config.experimental.list_physical_devices('GPU')"
      ],
      "execution_count": 0,
      "outputs": [
        {
          "output_type": "execute_result",
          "data": {
            "text/plain": [
              "[PhysicalDevice(name='/physical_device:GPU:0', device_type='GPU')]"
            ]
          },
          "metadata": {
            "tags": []
          },
          "execution_count": 13
        }
      ]
    },
    {
      "cell_type": "code",
      "metadata": {
        "id": "DBqV0zCIBKyB",
        "colab_type": "code",
        "colab": {}
      },
      "source": [
        "class Solution():\n",
        "  def main(self):\n",
        "    print(\"This is main function inside Solution class!\")"
      ],
      "execution_count": 0,
      "outputs": []
    },
    {
      "cell_type": "code",
      "metadata": {
        "id": "MUb1TsYUB46b",
        "colab_type": "code",
        "outputId": "1e7e6fc9-7004-4788-d5d3-4f24f1aa3992",
        "colab": {
          "base_uri": "https://localhost:8080/",
          "height": 34
        }
      },
      "source": [
        "sol = Solution()\n",
        "sol.main()\n",
        "# sol.__main__()\n",
        "# sol.__main__()"
      ],
      "execution_count": 0,
      "outputs": [
        {
          "output_type": "stream",
          "text": [
            "This is main function inside Solution class!\n"
          ],
          "name": "stdout"
        }
      ]
    },
    {
      "cell_type": "code",
      "metadata": {
        "id": "8j6ujFvaB_LI",
        "colab_type": "code",
        "colab": {}
      },
      "source": [
        "def test():\n",
        "  result = set()\n",
        "  for i in range(1,10, 2):\n",
        "    result.add(i)\n",
        "  print(result)"
      ],
      "execution_count": 0,
      "outputs": []
    },
    {
      "cell_type": "code",
      "metadata": {
        "id": "LPK6EjerDD2D",
        "colab_type": "code",
        "outputId": "1049f177-c662-4065-8795-f42a46e79def",
        "colab": {
          "base_uri": "https://localhost:8080/",
          "height": 34
        }
      },
      "source": [
        "test()"
      ],
      "execution_count": 0,
      "outputs": [
        {
          "output_type": "stream",
          "text": [
            "{1, 3, 5, 7, 9}\n"
          ],
          "name": "stdout"
        }
      ]
    },
    {
      "cell_type": "code",
      "metadata": {
        "id": "yVpXZ6QQEs88",
        "colab_type": "code",
        "colab": {}
      },
      "source": [
        "from typing import List\n"
      ],
      "execution_count": 0,
      "outputs": []
    },
    {
      "cell_type": "code",
      "metadata": {
        "id": "L2tsWq6bDExF",
        "colab_type": "code",
        "colab": {}
      },
      "source": [
        "class Solution:\n",
        "    def createTargetArray(self, nums: List[int], index: List[int]) -> List[int]:\n",
        "      target = [None]*len(nums)\n",
        "      for i in range(len(nums)):\n",
        "        if(target[index[i]] == None):\n",
        "          target[index[i]] = nums[i]\n",
        "        else:\n",
        "          temp = target[index[i]:]\n",
        "          target[index[i]] = nums[i]\n",
        "          target[index[i]+1:] = temp\n",
        "      # print(target)\n",
        "      final_target = []\n",
        "      for x in target:\n",
        "        if(x!=None):\n",
        "          final_target.append(x)\n",
        "      print(final_target)\n",
        "      return final_target"
      ],
      "execution_count": 0,
      "outputs": []
    },
    {
      "cell_type": "code",
      "metadata": {
        "id": "s-E692QPEmPd",
        "colab_type": "code",
        "outputId": "2d446ee2-9111-4479-c229-59daeccc693f",
        "colab": {
          "base_uri": "https://localhost:8080/",
          "height": 51
        }
      },
      "source": [
        "sol = Solution()\n",
        "sol.createTargetArray([1,2,3,4,0], [0,1,2,3,0])"
      ],
      "execution_count": 0,
      "outputs": [
        {
          "output_type": "stream",
          "text": [
            "[0, 1, 2, 3, 4]\n"
          ],
          "name": "stdout"
        },
        {
          "output_type": "execute_result",
          "data": {
            "text/plain": [
              "[0, 1, 2, 3, 4]"
            ]
          },
          "metadata": {
            "tags": []
          },
          "execution_count": 41
        }
      ]
    },
    {
      "cell_type": "code",
      "metadata": {
        "id": "_fwk6Q3lE2sT",
        "colab_type": "code",
        "outputId": "51540140-9469-4703-c674-76df22915529",
        "colab": {
          "base_uri": "https://localhost:8080/",
          "height": 51
        }
      },
      "source": [
        "x = [None]*15\n",
        "print(x)\n",
        "if(x[0] == None):\n",
        "  print(True)"
      ],
      "execution_count": 0,
      "outputs": [
        {
          "output_type": "stream",
          "text": [
            "[None, None, None, None, None, None, None, None, None, None, None, None, None, None, None]\n",
            "True\n"
          ],
          "name": "stdout"
        }
      ]
    },
    {
      "cell_type": "code",
      "metadata": {
        "id": "CzrcsUeNE8FM",
        "colab_type": "code",
        "outputId": "2cfab511-7c8d-4148-9c5b-9fc873f93a89",
        "colab": {
          "base_uri": "https://localhost:8080/",
          "height": 163
        }
      },
      "source": [
        "# shift([1,2,3], 1)"
      ],
      "execution_count": 0,
      "outputs": [
        {
          "output_type": "error",
          "ename": "NameError",
          "evalue": "ignored",
          "traceback": [
            "\u001b[0;31m---------------------------------------------------------------------------\u001b[0m",
            "\u001b[0;31mNameError\u001b[0m                                 Traceback (most recent call last)",
            "\u001b[0;32m<ipython-input-32-9e083c02b050>\u001b[0m in \u001b[0;36m<module>\u001b[0;34m()\u001b[0m\n\u001b[0;32m----> 1\u001b[0;31m \u001b[0mshift\u001b[0m\u001b[0;34m(\u001b[0m\u001b[0;34m[\u001b[0m\u001b[0;36m1\u001b[0m\u001b[0;34m,\u001b[0m\u001b[0;36m2\u001b[0m\u001b[0;34m,\u001b[0m\u001b[0;36m3\u001b[0m\u001b[0;34m]\u001b[0m\u001b[0;34m,\u001b[0m \u001b[0;36m1\u001b[0m\u001b[0;34m)\u001b[0m\u001b[0;34m\u001b[0m\u001b[0;34m\u001b[0m\u001b[0m\n\u001b[0m",
            "\u001b[0;31mNameError\u001b[0m: name 'shift' is not defined"
          ]
        }
      ]
    },
    {
      "cell_type": "code",
      "metadata": {
        "id": "mumU5OjXGre4",
        "colab_type": "code",
        "outputId": "0de8398b-811d-4789-dc8d-feb72081b7e2",
        "colab": {
          "base_uri": "https://localhost:8080/",
          "height": 34
        }
      },
      "source": [
        "target = [1,2,3,4,0]\n",
        "\n",
        "temp = target[2:]\n",
        "print(temp)"
      ],
      "execution_count": 0,
      "outputs": [
        {
          "output_type": "stream",
          "text": [
            "[3, 4, 0]\n"
          ],
          "name": "stdout"
        }
      ]
    },
    {
      "cell_type": "code",
      "metadata": {
        "id": "ykKDgIgZIaig",
        "colab_type": "code",
        "colab": {}
      },
      "source": [
        "target[2] = 4\n",
        "target[3:] = temp"
      ],
      "execution_count": 0,
      "outputs": []
    },
    {
      "cell_type": "code",
      "metadata": {
        "id": "mRAL5teuIitf",
        "colab_type": "code",
        "outputId": "51b7ae95-953a-47f9-8457-f7c3b4e708f5",
        "colab": {
          "base_uri": "https://localhost:8080/",
          "height": 34
        }
      },
      "source": [
        "target"
      ],
      "execution_count": 0,
      "outputs": [
        {
          "output_type": "execute_result",
          "data": {
            "text/plain": [
              "[1, 2, 4, 3, 4, 0]"
            ]
          },
          "metadata": {
            "tags": []
          },
          "execution_count": 35
        }
      ]
    },
    {
      "cell_type": "code",
      "metadata": {
        "id": "xZjAvXDdIjoj",
        "colab_type": "code",
        "outputId": "74ad74ee-d222-45a3-baa7-a3626ec8385c",
        "colab": {
          "base_uri": "https://localhost:8080/",
          "height": 102
        }
      },
      "source": [
        "y = torch.rand(5,3)\n",
        "print(x+y)"
      ],
      "execution_count": 0,
      "outputs": [
        {
          "output_type": "stream",
          "text": [
            "tensor([[ 1.7068,  0.3521,  0.0319],\n",
            "        [ 0.2618,  0.3704, -0.6543],\n",
            "        [ 0.9306,  1.3981,  1.6532],\n",
            "        [ 0.0919, -0.5186,  0.8412],\n",
            "        [-0.6211,  1.0422,  0.1220]])\n"
          ],
          "name": "stdout"
        }
      ]
    },
    {
      "cell_type": "code",
      "metadata": {
        "id": "MQRipQeMMHsF",
        "colab_type": "code",
        "outputId": "dfba144c-b099-41e0-9168-24517833327b",
        "colab": {
          "base_uri": "https://localhost:8080/",
          "height": 34
        }
      },
      "source": [
        "print(y.size())"
      ],
      "execution_count": 0,
      "outputs": [
        {
          "output_type": "stream",
          "text": [
            "torch.Size([5, 3])\n"
          ],
          "name": "stdout"
        }
      ]
    },
    {
      "cell_type": "code",
      "metadata": {
        "id": "RqMgfskmMJts",
        "colab_type": "code",
        "outputId": "67a92b00-e6a0-4e83-c8c3-e6dfaff3c8e6",
        "colab": {
          "base_uri": "https://localhost:8080/",
          "height": 34
        }
      },
      "source": [
        "print(x.size())"
      ],
      "execution_count": 0,
      "outputs": [
        {
          "output_type": "stream",
          "text": [
            "torch.Size([5, 3])\n"
          ],
          "name": "stdout"
        }
      ]
    },
    {
      "cell_type": "code",
      "metadata": {
        "id": "GzOI01jKMLJD",
        "colab_type": "code",
        "outputId": "003fe068-8b5f-4236-d8d1-a8e56478497f",
        "colab": {
          "base_uri": "https://localhost:8080/",
          "height": 102
        }
      },
      "source": [
        "print(torch.add(x, y))"
      ],
      "execution_count": 0,
      "outputs": [
        {
          "output_type": "stream",
          "text": [
            "tensor([[ 1.7068,  0.3521,  0.0319],\n",
            "        [ 0.2618,  0.3704, -0.6543],\n",
            "        [ 0.9306,  1.3981,  1.6532],\n",
            "        [ 0.0919, -0.5186,  0.8412],\n",
            "        [-0.6211,  1.0422,  0.1220]])\n"
          ],
          "name": "stdout"
        }
      ]
    },
    {
      "cell_type": "code",
      "metadata": {
        "id": "b7O7s_mJMQgp",
        "colab_type": "code",
        "outputId": "6fa3b88b-a0f6-44af-a617-cdefb15f8344",
        "colab": {
          "base_uri": "https://localhost:8080/",
          "height": 102
        }
      },
      "source": [
        "result = torch.empty(5,3)\n",
        "torch.add(x,y, out=result)\n",
        "print(result)"
      ],
      "execution_count": 0,
      "outputs": [
        {
          "output_type": "stream",
          "text": [
            "tensor([[ 1.7068,  0.3521,  0.0319],\n",
            "        [ 0.2618,  0.3704, -0.6543],\n",
            "        [ 0.9306,  1.3981,  1.6532],\n",
            "        [ 0.0919, -0.5186,  0.8412],\n",
            "        [-0.6211,  1.0422,  0.1220]])\n"
          ],
          "name": "stdout"
        }
      ]
    },
    {
      "cell_type": "code",
      "metadata": {
        "id": "Rz2OjMHnMcTp",
        "colab_type": "code",
        "outputId": "bc670d5d-8e03-4f9f-8ef0-04e5f92576d6",
        "colab": {
          "base_uri": "https://localhost:8080/",
          "height": 136
        }
      },
      "source": [
        "print(x)\n",
        "print(x.shape)\n",
        "\n",
        "print(x[:, 1])"
      ],
      "execution_count": 0,
      "outputs": [
        {
          "output_type": "stream",
          "text": [
            "tensor([[ 0.7097, -0.3161, -0.5887],\n",
            "        [-0.2876,  0.1520, -0.7053],\n",
            "        [ 0.2340,  1.3257,  1.2295],\n",
            "        [-0.3117, -0.5766,  0.3722],\n",
            "        [-1.2478,  0.1151, -0.5202]])\n",
            "torch.Size([5, 3])\n",
            "tensor([-0.3161,  0.1520,  1.3257, -0.5766,  0.1151])\n"
          ],
          "name": "stdout"
        }
      ]
    },
    {
      "cell_type": "code",
      "metadata": {
        "id": "qF5z4nsXMkaW",
        "colab_type": "code",
        "outputId": "3c8d8311-d8fd-413a-9bfa-ba1d77611490",
        "colab": {
          "base_uri": "https://localhost:8080/",
          "height": 51
        }
      },
      "source": [
        "x = torch.randn(4, 4)\n",
        "y = x.view(16)\n",
        "print(y)"
      ],
      "execution_count": 0,
      "outputs": [
        {
          "output_type": "stream",
          "text": [
            "tensor([ 1.2751, -0.3131, -1.2093, -1.9624,  0.4764, -1.0187,  0.2069, -0.4743,\n",
            "         0.2619,  1.4112, -0.8198,  1.2887, -1.5066,  1.7413,  1.6631, -0.8189])\n"
          ],
          "name": "stdout"
        }
      ]
    },
    {
      "cell_type": "code",
      "metadata": {
        "id": "PUCZ2g1yNCar",
        "colab_type": "code",
        "outputId": "93b150f7-416e-41d6-ebea-aba463199fe2",
        "colab": {
          "base_uri": "https://localhost:8080/",
          "height": 34
        }
      },
      "source": [
        "print(x.size())"
      ],
      "execution_count": 0,
      "outputs": [
        {
          "output_type": "stream",
          "text": [
            "torch.Size([4, 4])\n"
          ],
          "name": "stdout"
        }
      ]
    },
    {
      "cell_type": "code",
      "metadata": {
        "id": "YRJhdllKNeUI",
        "colab_type": "code",
        "outputId": "f8a17f95-b0db-49ef-e542-99ed14f97cf4",
        "colab": {
          "base_uri": "https://localhost:8080/",
          "height": 34
        }
      },
      "source": [
        "a = torch.ones(5)\n",
        "print(a)"
      ],
      "execution_count": 0,
      "outputs": [
        {
          "output_type": "stream",
          "text": [
            "tensor([1., 1., 1., 1., 1.])\n"
          ],
          "name": "stdout"
        }
      ]
    },
    {
      "cell_type": "code",
      "metadata": {
        "id": "vir5wDvENx4o",
        "colab_type": "code",
        "outputId": "0ac59ec9-99c1-4ba7-e73d-d2d4296e86ee",
        "colab": {
          "base_uri": "https://localhost:8080/",
          "height": 34
        }
      },
      "source": [
        "b = a.numpy()\n",
        "print(b)"
      ],
      "execution_count": 0,
      "outputs": [
        {
          "output_type": "stream",
          "text": [
            "[1. 1. 1. 1. 1.]\n"
          ],
          "name": "stdout"
        }
      ]
    },
    {
      "cell_type": "code",
      "metadata": {
        "id": "T95innqdN3WT",
        "colab_type": "code",
        "outputId": "37fba047-8b57-4ccb-8e99-fcadb790decf",
        "colab": {
          "base_uri": "https://localhost:8080/",
          "height": 34
        }
      },
      "source": [
        "a.add_(1)"
      ],
      "execution_count": 0,
      "outputs": [
        {
          "output_type": "execute_result",
          "data": {
            "text/plain": [
              "tensor([2., 2., 2., 2., 2.])"
            ]
          },
          "metadata": {
            "tags": []
          },
          "execution_count": 61
        }
      ]
    },
    {
      "cell_type": "code",
      "metadata": {
        "id": "R9ZbVPwoN9oc",
        "colab_type": "code",
        "outputId": "e98622ad-f732-4008-bc0a-e77dc0e340f7",
        "colab": {
          "base_uri": "https://localhost:8080/",
          "height": 34
        }
      },
      "source": [
        "a"
      ],
      "execution_count": 0,
      "outputs": [
        {
          "output_type": "execute_result",
          "data": {
            "text/plain": [
              "tensor([2., 2., 2., 2., 2.])"
            ]
          },
          "metadata": {
            "tags": []
          },
          "execution_count": 62
        }
      ]
    },
    {
      "cell_type": "code",
      "metadata": {
        "id": "VMLdDH14N-Ph",
        "colab_type": "code",
        "colab": {}
      },
      "source": [
        "interests = [\n",
        "(0, \"Hadoop\"), (0, \"Big Data\"), (0, \"HBase\"), (0, \"Java\"),\n",
        "(0, \"Spark\"), (0, \"Storm\"), (0, \"Cassandra\"),\n",
        "(1, \"NoSQL\"), (1, \"MongoDB\"), (1, \"Cassandra\"), (1, \"HBase\"),\n",
        "(1, \"Postgres\"), (2, \"Python\"), (2, \"scikit-learn\"), (2, \"scipy\"),\n",
        "(2, \"numpy\"), (2, \"statsmodels\"), (2, \"pandas\"), (3, \"R\"), (3, \"Python\"), (3, \"statistics\"), (3, \"regression\"), (3, \"probability\"),\n",
        "(4, \"machine learning\"), (4, \"regression\"), (4, \"decision trees\"),\n",
        "(4, \"libsvm\"), (5, \"Python\"), (5, \"R\"), (5, \"Java\"), (5, \"C++\"),\n",
        "(5, \"Haskell\"), (5, \"programming languages\"), (6, \"statistics\"),\n",
        "(6, \"probability\"), (6, \"mathematics\"), (6, \"theory\"),\n",
        "(7, \"machine learning\"), (7, \"scikit-learn\"), (7, \"Mahout\"),\n",
        "(7, \"neural networks\"), (8, \"neural networks\"), (8, \"deep learning\"),\n",
        "(8, \"Big Data\"), (8, \"artificial intelligence\"), (9, \"Hadoop\"),\n",
        "(9, \"Java\"), (9, \"MapReduce\"), (9, \"Big Data\")\n",
        "]"
      ],
      "execution_count": 0,
      "outputs": []
    },
    {
      "cell_type": "code",
      "metadata": {
        "id": "QqWhPbThbBrg",
        "colab_type": "code",
        "outputId": "5e0a6895-df93-4f5c-ec29-3dd673eab1bb",
        "colab": {
          "base_uri": "https://localhost:8080/",
          "height": 34
        }
      },
      "source": [
        "len(interests)\n"
      ],
      "execution_count": 0,
      "outputs": [
        {
          "output_type": "execute_result",
          "data": {
            "text/plain": [
              "49"
            ]
          },
          "metadata": {
            "tags": []
          },
          "execution_count": 2
        }
      ]
    },
    {
      "cell_type": "code",
      "metadata": {
        "id": "Sy67i9V6bGBx",
        "colab_type": "code",
        "colab": {}
      },
      "source": [
        "u = [x for x,y in interests]"
      ],
      "execution_count": 0,
      "outputs": []
    },
    {
      "cell_type": "code",
      "metadata": {
        "id": "Q1NfY3v0bPOO",
        "colab_type": "code",
        "outputId": "9c4bd60b-dbff-4122-aca4-9cd24cdc16cb",
        "colab": {
          "base_uri": "https://localhost:8080/",
          "height": 34
        }
      },
      "source": [
        "print(u)"
      ],
      "execution_count": 0,
      "outputs": [
        {
          "output_type": "stream",
          "text": [
            "[0, 0, 0, 0, 0, 0, 0, 1, 1, 1, 1, 1, 2, 2, 2, 2, 2, 2, 3, 3, 3, 3, 3, 4, 4, 4, 4, 5, 5, 5, 5, 5, 5, 6, 6, 6, 6, 7, 7, 7, 7, 8, 8, 8, 8, 9, 9, 9, 9]\n"
          ],
          "name": "stdout"
        }
      ]
    },
    {
      "cell_type": "code",
      "metadata": {
        "id": "2WrvgxndbQIf",
        "colab_type": "code",
        "colab": {}
      },
      "source": [
        "words_and_counts = [word for user, interest in interests for word in interest.lower().split()]\n"
      ],
      "execution_count": 0,
      "outputs": []
    },
    {
      "cell_type": "code",
      "metadata": {
        "id": "ZJXaJtcwcTna",
        "colab_type": "code",
        "colab": {}
      },
      "source": [
        "from collections import Counter"
      ],
      "execution_count": 0,
      "outputs": []
    },
    {
      "cell_type": "code",
      "metadata": {
        "id": "mlaiBQ5Zb3iU",
        "colab_type": "code",
        "colab": {}
      },
      "source": [
        "words_and_counts = Counter(word for user, interest in interests for word in interest.lower().split())"
      ],
      "execution_count": 0,
      "outputs": []
    },
    {
      "cell_type": "code",
      "metadata": {
        "id": "fsYgo9zFb4kf",
        "colab_type": "code",
        "outputId": "11723324-f833-4853-e76c-a916b90ef723",
        "colab": {
          "base_uri": "https://localhost:8080/",
          "height": 680
        }
      },
      "source": [
        "words_and_counts.most_common()"
      ],
      "execution_count": 0,
      "outputs": [
        {
          "output_type": "execute_result",
          "data": {
            "text/plain": [
              "[('big', 3),\n",
              " ('data', 3),\n",
              " ('java', 3),\n",
              " ('python', 3),\n",
              " ('learning', 3),\n",
              " ('hadoop', 2),\n",
              " ('hbase', 2),\n",
              " ('cassandra', 2),\n",
              " ('scikit-learn', 2),\n",
              " ('r', 2),\n",
              " ('statistics', 2),\n",
              " ('regression', 2),\n",
              " ('probability', 2),\n",
              " ('machine', 2),\n",
              " ('neural', 2),\n",
              " ('networks', 2),\n",
              " ('spark', 1),\n",
              " ('storm', 1),\n",
              " ('nosql', 1),\n",
              " ('mongodb', 1),\n",
              " ('postgres', 1),\n",
              " ('scipy', 1),\n",
              " ('numpy', 1),\n",
              " ('statsmodels', 1),\n",
              " ('pandas', 1),\n",
              " ('decision', 1),\n",
              " ('trees', 1),\n",
              " ('libsvm', 1),\n",
              " ('c++', 1),\n",
              " ('haskell', 1),\n",
              " ('programming', 1),\n",
              " ('languages', 1),\n",
              " ('mathematics', 1),\n",
              " ('theory', 1),\n",
              " ('mahout', 1),\n",
              " ('deep', 1),\n",
              " ('artificial', 1),\n",
              " ('intelligence', 1),\n",
              " ('mapreduce', 1)]"
            ]
          },
          "metadata": {
            "tags": []
          },
          "execution_count": 12
        }
      ]
    },
    {
      "cell_type": "code",
      "metadata": {
        "id": "EDmjykKJcJPB",
        "colab_type": "code",
        "outputId": "03a78f4c-5edb-4039-fc94-33ad9b9b9724",
        "colab": {
          "base_uri": "https://localhost:8080/",
          "height": 289
        }
      },
      "source": [
        "for word, count in words_and_counts.most_common():\n",
        "  if(count > 1):\n",
        "    print(word, count)"
      ],
      "execution_count": 0,
      "outputs": [
        {
          "output_type": "stream",
          "text": [
            "big 3\n",
            "data 3\n",
            "java 3\n",
            "python 3\n",
            "learning 3\n",
            "hadoop 2\n",
            "hbase 2\n",
            "cassandra 2\n",
            "scikit-learn 2\n",
            "r 2\n",
            "statistics 2\n",
            "regression 2\n",
            "probability 2\n",
            "machine 2\n",
            "neural 2\n",
            "networks 2\n"
          ],
          "name": "stdout"
        }
      ]
    },
    {
      "cell_type": "code",
      "metadata": {
        "id": "gQbidU_xc6Ff",
        "colab_type": "code",
        "colab": {}
      },
      "source": [
        "another_double = lambda x: 2*x\n",
        "\n",
        "def another_double(x):\n",
        "  return 2*x"
      ],
      "execution_count": 0,
      "outputs": []
    },
    {
      "cell_type": "code",
      "metadata": {
        "id": "eOAxKIR-p5Jx",
        "colab_type": "code",
        "outputId": "f0509d02-628b-467b-a5bd-e2a980fc8e82",
        "colab": {
          "base_uri": "https://localhost:8080/",
          "height": 51
        }
      },
      "source": [
        "def my_print(message=\"my default message\"):\n",
        "  print(message)\n",
        "\n",
        "my_print(\"hello\")\n",
        "my_print()"
      ],
      "execution_count": 0,
      "outputs": [
        {
          "output_type": "stream",
          "text": [
            "hello\n",
            "my default message\n"
          ],
          "name": "stdout"
        }
      ]
    },
    {
      "cell_type": "code",
      "metadata": {
        "id": "ZwskJquKqBfp",
        "colab_type": "code",
        "outputId": "6ec2f7de-5d8d-4282-e984-fd22db59208a",
        "colab": {
          "base_uri": "https://localhost:8080/",
          "height": 34
        }
      },
      "source": [
        "tab_string = \"\\t\"\n",
        "print(\"len :- \", len(tab_string))"
      ],
      "execution_count": 0,
      "outputs": [
        {
          "output_type": "stream",
          "text": [
            "len :-  1\n"
          ],
          "name": "stdout"
        }
      ]
    },
    {
      "cell_type": "code",
      "metadata": {
        "id": "4SkulwS0rAgE",
        "colab_type": "code",
        "colab": {}
      },
      "source": [
        "single_quoted_string = 'data science'\n",
        "double_quoted_string = \"data science\""
      ],
      "execution_count": 0,
      "outputs": []
    },
    {
      "cell_type": "code",
      "metadata": {
        "id": "gwV_13-0rE05",
        "colab_type": "code",
        "outputId": "8292f40f-38ae-4c09-cdfe-cd9cc5fae6b8",
        "colab": {
          "base_uri": "https://localhost:8080/",
          "height": 34
        }
      },
      "source": [
        "tab_string = \"\\t\"\n",
        "len(tab_string)"
      ],
      "execution_count": 0,
      "outputs": [
        {
          "output_type": "execute_result",
          "data": {
            "text/plain": [
              "1"
            ]
          },
          "metadata": {
            "tags": []
          },
          "execution_count": 21
        }
      ]
    },
    {
      "cell_type": "code",
      "metadata": {
        "id": "g3fPOe39rIuu",
        "colab_type": "code",
        "colab": {}
      },
      "source": [
        "not_tab_string = "
      ],
      "execution_count": 0,
      "outputs": []
    }
  ]
}